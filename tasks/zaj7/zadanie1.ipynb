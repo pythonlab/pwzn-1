{
 "metadata": {
  "name": "",
  "signature": "sha256:70fecf5f2d2a9c1e867f3c28807faf527eed37db465afddd92bf6ea884c5912a"
 },
 "nbformat": 3,
 "nbformat_minor": 0,
 "worksheets": [
  {
   "cells": [
    {
     "cell_type": "code",
     "collapsed": false,
     "input": [
      "import requests\n",
      "import pickle as p\n",
      "import hashlib\n",
      "import time\n",
      "import threading\n",
      "from multiprocessing.pool import ThreadPool\n",
      "from multiprocessing import Pool\n",
      "\n",
      "def download(args):\n",
      "    N, ii, response, resp_len = args\n",
      "    data = []\n",
      "    step = int(resp_len/N)\n",
      "    residual = resp_len - N * step\n",
      "    if ii==0:\n",
      "        request_range = (ii*step, (ii+1)*step)\n",
      "    elif ii == N-1:\n",
      "        request_range = (ii*step+1, (ii+1)*step+residual)\n",
      "    else:\n",
      "        request_range = (ii*step+1, (ii+1)*step)\n",
      "    \n",
      "    print(request_range)\n",
      "    response = requests.get(\"http://db.fizyka.pw.edu.pl/pwzn-data/zaj7/rand-data-a\", \n",
      "            headers = {\n",
      "                \"Range\": \"bytes={}-{}\".format(*request_range)\n",
      "            })\n",
      "    data.append(response)\n",
      "    collected = b\"\".join([d.content for d in data])\n",
      "    return collected\n",
      "        \n",
      "def accelerator(N):\n",
      "    if N<1 or N>11:\n",
      "        print(\"Wrong number of arguments\")\n",
      "        return\n",
      "    \n",
      "    response = requests.head(\"http://db.fizyka.pw.edu.pl/pwzn-data/zaj7/rand-data-a\")\n",
      "    resp_len = int(response.headers['Content-Length'])\n",
      "    args = list(range(N))\n",
      "    for ii in args:\n",
      "        args[ii] = (N, ii, response, resp_len)\n",
      "    collected = []\n",
      "    p = ThreadPool(N)\n",
      "    try:\n",
      "        collected = p.map(download, args)\n",
      "    finally: \n",
      "        p.close()\n",
      "        p.join()\n",
      "        hash = hashlib.md5()\n",
      "        for ii in collected:\n",
      "            hash.update(ii)\n",
      "        print(hash.hexdigest()+\"\\n\")\n",
      "\n",
      "    \n",
      "start = time.monotonic()\n",
      "accelerator(10)\n",
      "print(time.monotonic() - start)"
     ],
     "language": "python",
     "metadata": {},
     "outputs": [
      {
       "output_type": "stream",
       "stream": "stdout",
       "text": [
        "(0, 123456)\n",
        "(123457, 246912)\n",
        "(246913, 370368)\n",
        "(370369, 493824)\n",
        "(493825, 617280)\n",
        "(617281, 740736)\n",
        "(740737, 864192)\n",
        "(864193, 987648)\n",
        "(987649, 1111104)\n",
        "(1111105, 1234567)\n",
        "f9417867a1dad229eaae2802a5babc33\n"
       ]
      },
      {
       "output_type": "stream",
       "stream": "stdout",
       "text": [
        "\n",
        "0.10892965800121601\n"
       ]
      }
     ],
     "prompt_number": 97
    },
    {
     "cell_type": "code",
     "collapsed": false,
     "input": [],
     "language": "python",
     "metadata": {},
     "outputs": [],
     "prompt_number": 30
    },
    {
     "cell_type": "code",
     "collapsed": false,
     "input": [],
     "language": "python",
     "metadata": {},
     "outputs": []
    }
   ],
   "metadata": {}
  }
 ]
}