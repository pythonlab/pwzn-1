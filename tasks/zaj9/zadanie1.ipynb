{
 "metadata": {
  "name": "",
  "signature": "sha256:4f8bf9e1fe55e65276b3f3ff97c79f2e5edbd73f0e1d6782d11bec73beea3894"
 },
 "nbformat": 3,
 "nbformat_minor": 0,
 "worksheets": [
  {
   "cells": [
    {
     "cell_type": "code",
     "collapsed": false,
     "input": [
      "%matplotlib inline"
     ],
     "language": "python",
     "metadata": {},
     "outputs": [],
     "prompt_number": 9
    },
    {
     "cell_type": "code",
     "collapsed": false,
     "input": [
      "import mmap\n",
      "import scipy\n",
      "import numpy as np\n",
      "import pylab\n",
      "import math\n",
      "\n",
      "m2 = np.memmap(\"./data.bin\", dtype=\"float\", shape=(1000, 10000))\n",
      "x = np.linspace(-40, 40, 10000)\n",
      "y = m2[1]\n",
      "\n",
      "pylab.plot(x, y)"
     ],
     "language": "python",
     "metadata": {},
     "outputs": [
      {
       "metadata": {},
       "output_type": "pyout",
       "prompt_number": 54,
       "text": [
        "[<matplotlib.lines.Line2D at 0x7f9887a498d0>]"
       ]
      },
      {
       "metadata": {},
       "output_type": "display_data",
       "png": "[encoded data removed]",
       "text": [
        "<matplotlib.figure.Figure at 0x7f986f44a828>"
       ]
      }
     ],
     "prompt_number": 54
    },
    {
     "cell_type": "code",
     "collapsed": false,
     "input": [
      "def fun(x, a, b, c, d, e):\n",
      "    return a * np.exp(-((x-b)**2)/(2*c**2) ) + d*x + e"
     ],
     "language": "python",
     "metadata": {},
     "outputs": [],
     "prompt_number": 59
    },
    {
     "cell_type": "code",
     "collapsed": false,
     "input": [
      "from scipy.optimize import curve_fit\n",
      "\n",
      "d = 0\n",
      "e = 0\n",
      "\n",
      "a = max(y)\n",
      "b = float(np.sum(x*y)/len(y))\n",
      "\n",
      "c = math.sqrt(np.sum((x-b)**2) / (np.sum(y)-1))\n",
      "\n",
      "p0 = [a, b, c, d, e]\n",
      "print(p0)\n",
      "\n",
      "popt, pcov = scipy.optimize.curve_fit(fun, x, y, p0)\n",
      "\n",
      "a,b,c,d,e = popt\n",
      "print(popt)\n",
      "pylab.plot(x, fun(x, *popt))\n",
      "pylab.plot(x, y)"
     ],
     "language": "python",
     "metadata": {},
     "outputs": [
      {
       "output_type": "stream",
       "stream": "stdout",
       "text": [
        "[9.1674286252651651, 10.431919892007341, 20.69050051441749, 0, 0]\n",
        "[ 8.09132932  5.17183419 -1.97389163  0.01470463  1.        ]\n"
       ]
      },
      {
       "metadata": {},
       "output_type": "pyout",
       "prompt_number": 92,
       "text": [
        "[<matplotlib.lines.Line2D at 0x7f986120ba90>]"
       ]
      },
      {
       "metadata": {},
       "output_type": "display_data",
       "png": "[encoded data removed]",
       "text": [
        "<matplotlib.figure.Figure at 0x7f986120b860>"
       ]
      }
     ],
     "prompt_number": 92
    },
    {
     "cell_type": "code",
     "collapsed": false,
     "input": [],
     "language": "python",
     "metadata": {},
     "outputs": []
    }
   ],
   "metadata": {}
  }
 ]
}