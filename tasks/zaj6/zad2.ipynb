{
 "metadata": {
  "name": "zad2",
  "signature": "sha256:b1efbc7958f5f294cc5a895cbde65d947560323e4203284a680157eeb39a08ef"
 },
 "nbformat": 3,
 "nbformat_minor": 0,
 "worksheets": [
  {
   "cells": [
    {
     "cell_type": "code",
     "collapsed": false,
     "input": [
      "import pandas as pd\n",
      "%matplotlib inline\n",
      "from matplotlib import pylab"
     ],
     "language": "python",
     "metadata": {},
     "outputs": [
      {
       "ename": "ImportError",
       "evalue": "No module named pandas",
       "output_type": "pyerr",
       "traceback": [
        "\u001b[0;31m---------------------------------------------------------------------------\u001b[0m\n\u001b[0;31mImportError\u001b[0m                               Traceback (most recent call last)",
        "\u001b[0;32m<ipython-input-1-5d60110b014d>\u001b[0m in \u001b[0;36m<module>\u001b[0;34m()\u001b[0m\n\u001b[0;32m----> 1\u001b[0;31m \u001b[0;32mimport\u001b[0m \u001b[0mpandas\u001b[0m \u001b[0;32mas\u001b[0m \u001b[0mpd\u001b[0m\u001b[0;34m\u001b[0m\u001b[0m\n\u001b[0m\u001b[1;32m      2\u001b[0m \u001b[0mget_ipython\u001b[0m\u001b[0;34m(\u001b[0m\u001b[0;34m)\u001b[0m\u001b[0;34m.\u001b[0m\u001b[0mmagic\u001b[0m\u001b[0;34m(\u001b[0m\u001b[0;34mu'matplotlib inline'\u001b[0m\u001b[0;34m)\u001b[0m\u001b[0;34m\u001b[0m\u001b[0m\n",
        "\u001b[0;31mImportError\u001b[0m: No module named pandas"
       ]
      }
     ],
     "prompt_number": 1
    },
    {
     "cell_type": "heading",
     "level": 1,
     "metadata": {},
     "source": [
      "Wprowadzenie\n"
     ]
    },
    {
     "cell_type": "markdown",
     "metadata": {},
     "source": [
      "Dane s\u0105\u00a0zasadniczo te same co ostatnim razem, ale pochodz\u0105 z innego \u017ar\u00f3d\u0142a. Maj\u0105\u00a0te\u017c\u00a0troch\u0119 inny format. \n",
      "\n",
      "Zasadnicze zadanie polega na zebraniu ca\u0142ych danych z pliku XLS (oba arkusze!), a nast\u0119pnie sformatowaniu ich do jednolitej postaci. Nast\u0119pnie nale\u017cy te wyniki po\u0142\u0105czy\u0107 z wynikami z poprzedniego zadania. \n",
      "\n",
      "Dane s\u0105 w pliku: \"data-cl.xls\".\n",
      "\n",
      "Za\u0142aduj dane do ramki pandas z jednego arkusza:"
     ]
    },
    {
     "cell_type": "code",
     "collapsed": false,
     "input": [
      "ark1 = pd.read_excel(\"./data-cl.xls\", sheetname = \"Sheet1\")\n",
      "ark2 = pd.read_excel(\"./data-cl.xls\", sheetname = \"Sheet2\")"
     ],
     "language": "python",
     "metadata": {},
     "outputs": [],
     "prompt_number": 54
    },
    {
     "cell_type": "markdown",
     "metadata": {},
     "source": [
      "Jak zauwa\u017cy\u0142e\u015b/a\u015b\u00a0dane dane maj\u0105\u00a0dziwn\u0105 struktur\u0119, W wierszach mamy pomiar w kolejnych tygodniach dla poszczeg\u00f3lnych stacji i lat. \n",
      "\n",
      "Na razie celem jest przekszta\u0142cenie tych danyh na tabelk\u0119 o strukturze zawieraj\u0105cej kolumny: Data, Rodzaj Radionuklidu, Stacja, Warto\u015b\u0107. \n",
      "\n",
      "Kolejno\u015b\u0107 przekszta\u0142ce\u0144\u00a0jest taka (mo\u017ce wpadniecie na lepsz\u0105): \n",
      "\n",
      "* Na pocz\u0105tek porz\u0105dek w danych. Nale\u017cy usun\u0105\u0107\u00a0puste rz\u0119dy na g\u00f3rze, wyrzuci\u0107\u00a0kolumn\u0119 w kt\u00f3rej jest tylko 7Be, nada\u0107 kolumnie z rokiem nazw\u0119\u00a0Rok, oraz kolumnie ze stacj\u0105 nazw\u0119\u00a0Stacja. \n",
      "* Za pomoc\u0105\u00a0funkcji pd.melt(...) dokona\u0107\u00a0unpivotowania danych \n",
      "* Z Roku i tygodnia wyznaczy\u0107 dat\u0119\u00a0(jak w ostatnim \u0107wiczeniu)."
     ]
    },
    {
     "cell_type": "code",
     "collapsed": false,
     "input": [
      "from datetime import date, timedelta\n",
      "def week_start_date(year, week, dow=0):    \n",
      "    \"\"\"\n",
      "    :param int year: Numer roku\n",
      "    :param int week: Numer tygodnia w roku \n",
      "    :param int dow: Funkcja ta zwraca dat\u0119, zwr\u00f3ci dat\u0119 dnia o indeksie dow, zero oznacza poniedzia\u0142ek, jeden wtorek itp. \n",
      "    \"\"\"\n",
      "    # http://stackoverflow.com/a/1287862/7918\n",
      "    d = date(year, 1, 1)    \n",
      "    delta_days = d.isoweekday() - 1\n",
      "    delta_weeks = week\n",
      "    if year == d.isocalendar()[0]:\n",
      "        delta_weeks -= 1\n",
      "    delta = timedelta(days=-delta_days+dow, weeks=delta_weeks)\n",
      "    return d + delta"
     ],
     "language": "python",
     "metadata": {},
     "outputs": [],
     "prompt_number": 10
    },
    {
     "cell_type": "code",
     "collapsed": false,
     "input": [
      "ark1 = ark1.drop(0) #remove row 0\n",
      "ark1 = ark1.drop(1) #remove row 1\n",
      "ark1 = ark1.drop(0, axis = 1) #remove col 0\n",
      "ark1 = ark1.rename(columns = {1:'Rok'}) #rename\n",
      "ark1.Rok = ark1.Rok.fillna(method = 'ffill') #fill empty cells in col Rok\n",
      "ark1 = pd.melt(ark1, id_vars=['Nr:Tyg ', 'Rok']) #melt\n",
      "ark1 = ark1.rename(columns={'variable':'Tyg', 'Nr:Tyg: ':'Stacja', 'value':'7Be'}) #rename columns\n",
      "ark1['Data'] = [week_start_date(int(ii), int(jj)) for ii, jj in zip(ark1['Rok'], ark1['Tyg'])] #create data column\n",
      "ark1 = ark1.drop('Rok', axis = 1) #remove col Rok\n",
      "ark1 = ark1.drop('Tyg', axis = 1) #remove col Tydzien\n",
      "print(ark1)"
     ],
     "language": "python",
     "metadata": {},
     "outputs": [],
     "prompt_number": 15
    },
    {
     "cell_type": "heading",
     "level": 3,
     "metadata": {},
     "source": [
      "Pobranie danych z drugiego skoroszytu"
     ]
    },
    {
     "cell_type": "markdown",
     "metadata": {},
     "source": [
      "Tak samo pobierz dane z drugiego skoroszytu (zawiera on inny radionuklid)"
     ]
    },
    {
     "cell_type": "code",
     "collapsed": false,
     "input": [
      "ark2 = ark2.drop(0) #remove row 0\n",
      "ark2 = ark2.drop(1) #remove row 1\n",
      "ark2 = ark2.drop(0, axis = 1) #remove col 0\n",
      "ark2 = ark2.rename(columns = {1:'Rok'}) #rename\n",
      "ark2.Rok = ark2.Rok.fillna(method = 'ffill') #fill empty cells in col Rok\n",
      "ark2 = pd.melt(ark2, id_vars=['Nr:Tyg ', 'Rok']) #melt\n",
      "ark2 = ark2.rename(columns={'variable':'Tyg', 'Nr:Tyg: ':'Stacja', 'value':'40K'}) #rename columns\n",
      "ark2['Data'] = [week_start_date(int(ii), int(jj)) for ii, jj in zip(ark2['Rok'], ark2['Tyg'])] #create data column\n",
      "ark2 = ark2.drop('Rok', axis = 1) #remove col Rok\n",
      "ark2 = ark2.drop('Tyg', axis = 1) #remove col Tydzien\n",
      "print(ark2)"
     ],
     "language": "python",
     "metadata": {},
     "outputs": []
    },
    {
     "cell_type": "heading",
     "level": 3,
     "metadata": {},
     "source": [
      "Doklejenie wynik\u00f3w "
     ]
    },
    {
     "cell_type": "markdown",
     "metadata": {},
     "source": [
      "Pobierz wyniki z zadania 1 i sformatuj je do takiej samej postaci (powiedzmy \u017ce pochodz\u0105 one ze stacji o nazwie: \"Stacja Hor\"), nast\u0119pnie po\u0142\u0105cz ramki razem "
     ]
    },
    {
     "cell_type": "code",
     "collapsed": false,
     "input": [
      "results1 = pd.read_csv('wynik.csv')\n",
      "results1['Stacja'] = \"Stacja Hor\" #add column\n",
      "results1 = results1.append(ark1)\n",
      "results1 = results1.append(ark2)\n",
      "print(results1)\n"
     ],
     "language": "python",
     "metadata": {},
     "outputs": [],
     "prompt_number": 14
    },
    {
     "cell_type": "heading",
     "level": 3,
     "metadata": {},
     "source": [
      "Pivoting pe\u0142nych danych"
     ]
    },
    {
     "cell_type": "markdown",
     "metadata": {},
     "source": [
      "Teraz skonstruuj tabelk\u0119\u00a0zawieraj\u0105c\u0105 takie kolumny: \n",
      "\n",
      "* Data\n",
      "* Dla ka\u017cdej kombinacji Stacji i parametru kolumn\u0119 z poziomem zanieczyszczenia"
     ]
    },
    {
     "cell_type": "code",
     "collapsed": false,
     "input": [
      "params = list(result.columns.values) #list of columns\n",
      "params.remove('Data') #remove unnecessary\n",
      "params.remove('Stacja')\n",
      "params.remove('Rok')\n",
      "params.remove('Tyg')\n",
      "pivoted = results1.pivot_table(params, 'Data', 'Stacja', ) #create pivot table\n",
      "print(pivoted.head(10)) #print head"
     ],
     "language": "python",
     "metadata": {},
     "outputs": []
    },
    {
     "cell_type": "heading",
     "level": 3,
     "metadata": {},
     "source": [
      "Wyniki"
     ]
    },
    {
     "cell_type": "markdown",
     "metadata": {},
     "source": [
      "Wy\u015bwietl wyniki w \u0142adnym wykresie :)"
     ]
    },
    {
     "cell_type": "code",
     "collapsed": false,
     "input": [
      "for param in params:\n",
      "    table = pivoted[param]\n",
      "    table.plot()\n",
      "    table.set_title(param)\n",
      "    pylab.savefig(param + '.png')"
     ],
     "language": "python",
     "metadata": {},
     "outputs": []
    }
   ],
   "metadata": {}
  }
 ]
}