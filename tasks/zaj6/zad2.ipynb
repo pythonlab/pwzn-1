{
 "worksheets": [
  {
   "cells": [
    {
     "cell_type": "code",
     "metadata": {},
     "outputs": [],
     "input": [
      "import pandas as pd\n",
      "%matplotlib inline"
     ],
     "language": "python",
     "prompt_number": 50
    },
    {
     "cell_type": "heading",
     "metadata": {},
     "level": 1,
     "source": [
      "Wprowadzenie\n"
     ]
    },
    {
     "cell_type": "markdown",
     "metadata": {},
     "source": [
      "Dane są zasadniczo te same co ostatnim razem, ale pochodzą z innego źródła. Mają też trochę inny format. \n",
      "\n",
      "Zasadnicze zadanie polega na zebraniu całych danych z pliku XLS (oba arkusze!), a następnie sformatowaniu ich do jednolitej postaci. Następnie należy te wyniki połączyć z wynikami z poprzedniego zadania. \n",
      "\n",
      "Dane są w pliku: \"data-cl.xls\".\n",
      "\n",
      "Załaduj dane do ramki pandas z jednego arkusza:"
     ]
    },
    {
     "cell_type": "code",
     "metadata": {},
     "outputs": [],
     "input": [
      ""
     ],
     "language": "python",
     "prompt_number": 54
    },
    {
     "cell_type": "markdown",
     "metadata": {},
     "source": [
      "Jak zauważyłeś/aś dane dane mają dziwną strukturę, W wierszach mamy pomiar w kolejnych tygodniach dla poszczególnych stacji i lat. \n",
      "\n",
      "Na razie celem jest przekształcenie tych danyh na tabelkę o strukturze zawierającej kolumny: Data, Rodzaj Radionuklidu, Stacja, Wartość. \n",
      "\n",
      "Kolejność przekształceń jest taka (może wpadniecie na lepszą): \n",
      "\n",
      "* Na początek porządek w danych. Należy usunąć puste rzędy na górze, wyrzucić kolumnę w której jest tylko 7Be, nadać kolumnie z rokiem nazwę Rok, oraz kolumnie ze stacją nazwę Stacja. \n",
      "* Za pomocą funkcji pd.melt(...) dokonać unpivotowania danych \n",
      "* Z Roku i tygodnia wyznaczyć datę (jak w ostatnim ćwiczeniu)."
     ]
    },
    {
     "cell_type": "code",
     "metadata": {},
     "outputs": [],
     "input": [
      "from datetime import date, timedelta\n",
      "def week_start_date(year, week, dow=0):    \n",
      "    \"\"\"\n",
      "    :param int year: Numer roku\n",
      "    :param int week: Numer tygodnia w roku \n",
      "    :param int dow: Funkcja ta zwraca datę, zwróci datę dnia o indeksie dow, zero oznacza poniedziałek, jeden wtorek itp. \n",
      "    \"\"\"\n",
      "    # http://stackoverflow.com/a/1287862/7918\n",
      "    d = date(year, 1, 1)    \n",
      "    delta_days = d.isoweekday() - 1\n",
      "    delta_weeks = week\n",
      "    if year == d.isocalendar()[0]:\n",
      "        delta_weeks -= 1\n",
      "    delta = timedelta(days=-delta_days+dow, weeks=delta_weeks)\n",
      "    return d + delta"
     ],
     "language": "python",
     "prompt_number": 10
    },
    {
     "cell_type": "code",
     "metadata": {},
     "outputs": [],
     "input": [
      ""
     ],
     "language": "python",
     "prompt_number": 15
    },
    {
     "cell_type": "heading",
     "metadata": {},
     "level": 3,
     "source": [
      "Pobranie danych z drugiego skoroszytu"
     ]
    },
    {
     "cell_type": "markdown",
     "metadata": {},
     "source": [
      "Tak samo pobierz dane z drugiego skoroszytu (zawiera on inny radionuklid)"
     ]
    },
    {
     "cell_type": "heading",
     "metadata": {},
     "level": 3,
     "source": [
      "Doklejenie wyników "
     ]
    },
    {
     "cell_type": "markdown",
     "metadata": {},
     "source": [
      "Pobierz wyniki z zadania 1 i sformatuj je do takiej samej postaci (powiedzmy że pochodzą one ze stacji o nazwie: \"Stacja Hor\"), następnie połącz ramki razem "
     ]
    },
    {
     "cell_type": "code",
     "metadata": {},
     "outputs": [],
     "input": [
      ""
     ],
     "language": "python",
     "prompt_number": 14
    },
    {
     "cell_type": "heading",
     "metadata": {},
     "level": 3,
     "source": [
      "Pivoting pełnych danych"
     ]
    },
    {
     "cell_type": "markdown",
     "metadata": {},
     "source": [
      "Teraz skonstruuj tabelkę zawierającą takie kolumny: \n",
      "\n",
      "* Data\n",
      "* Dla każdej kombinacji Stacji i parametru kolumnę z poziomem zanieczyszczenia"
     ]
    },
    {
     "cell_type": "code",
     "metadata": {},
     "outputs": [],
     "input": [
      ""
     ],
     "language": "python"
    },
    {
     "cell_type": "heading",
     "metadata": {},
     "level": 3,
     "source": [
      "Wyniki"
     ]
    },
    {
     "cell_type": "markdown",
     "metadata": {},
     "source": [
      "Wyświetl wyniki w ładnym wykresie :)"
     ]
    },
    {
     "cell_type": "code",
     "metadata": {},
     "outputs": [],
     "input": [
      ""
     ],
     "language": "python"
    }
   ]
  }
 ],
 "cells": [],
 "metadata": {
  "name": "",
  "signature": "sha256:b1efbc7958f5f294cc5a895cbde65d947560323e4203284a680157eeb39a08ef"
 },
 "nbformat": 3,
 "nbformat_minor": 0
}