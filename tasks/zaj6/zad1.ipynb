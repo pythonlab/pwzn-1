{
 "worksheets": [
  {
   "cells": [
    {
     "cell_type": "heading",
     "metadata": {},
     "level": 1,
     "source": [
      "Wyjaśnienie"
     ]
    },
    {
     "cell_type": "markdown",
     "metadata": {},
     "source": [
      "Dostajecie teraz dane, bardzo podobne do takich na których pracuje się w  \"prawdziwej nauce\" (w takiej formie dostałem kiedyś prawdziwe dane pomiarowe). \n",
      "\n",
      "Dane dotyczą poziomów radionuklidów w powietrzu przy gruntowym, są to dość trudne pomiary do przeprowadzenia, ponieważ rejestruje się bardzo niskie dawki (aktywności w powietrzu są rzędu mikrobekereli). Procedura pomiarowa wygląda (z grubsza) tak: \n",
      "\n",
      "* Przepuszczamy powierze pompowane przez wysokowydajną pompę, przez płachtę filtru przez tydzień. \n",
      "* Prasujemy filtr\n",
      "* Zbieramy spektrum gamma \n",
      "* Po kilku obliczeniach (uwzględniających okres półtrwania niektórych nuklidów) otrzymujemy aktywność. \n",
      "\n",
      "\n",
      "Dane które otrzymaliście są wygenerowane :) "
     ]
    },
    {
     "cell_type": "markdown",
     "metadata": {},
     "source": [
      "Dane są w pliku: \"data.csv\" w tym katalogu. "
     ]
    },
    {
     "cell_type": "heading",
     "metadata": {},
     "level": 1,
     "source": [
      "Zadanie 1"
     ]
    },
    {
     "cell_type": "markdown",
     "metadata": {},
     "source": [
      "Teraz zaimportuj pandas, oraz zainicjalizuj matplotlib: "
     ]
    },
    {
     "cell_type": "code",
     "metadata": {},
     "outputs": [],
     "input": [
      ""
     ],
     "language": "python",
     "prompt_number": 46
    },
    {
     "cell_type": "markdown",
     "metadata": {},
     "source": [
      "Załaduj plik z danymi (dobrym pomysłem jest obejrzenie go w arkuszu kalkulacyjnym)"
     ]
    },
    {
     "cell_type": "code",
     "metadata": {},
     "outputs": [],
     "input": [
      ""
     ],
     "language": "python",
     "prompt_number": 47
    },
    {
     "cell_type": "heading",
     "metadata": {},
     "level": 3,
     "source": [
      "Określenie dat"
     ]
    },
    {
     "cell_type": "markdown",
     "metadata": {},
     "source": [
      "W pliku pomiary nie mają dat, ale rok i tydzień dokonania pomiaru (w pomiarach radionuklidów w powietrzu przez tydzień zbiera się radionuklidy na filtrze). \n",
      "\n",
      "Zauważcie że w pliku w wierszu z rokiem nie ma wartości w każdym wierszu. Uzupełnij brakujące dane. "
     ]
    },
    {
     "cell_type": "code",
     "metadata": {},
     "outputs": [],
     "input": [
      ""
     ],
     "language": "python",
     "prompt_number": 49
    },
    {
     "cell_type": "markdown",
     "metadata": {},
     "source": [
      "Teraz przekonwertuj zawartość kolumny Rok do liczb stałoprzeninkowych. To samo zrób z kolumną Tyg"
     ]
    },
    {
     "cell_type": "code",
     "metadata": {},
     "outputs": [],
     "input": [
      ""
     ],
     "language": "python",
     "prompt_number": 50
    },
    {
     "cell_type": "markdown",
     "metadata": {},
     "source": [
      "Dodaj do ramki pole Data, które będzie zawierać datę pomiaru. Datę pomiaru wyznaczasz z roku i numeru tygodnia (wg. kalendzarza ISO). Przeliczenie roku i tygodnia na datę pomiaru wykonaj za pomocą dostarczonej funkcji. \n",
      "\n",
      "**Uwaga** tego nie da się zwektoryzować, proszę po prostu przeiterować po poszczególnych wierszach wybranych kolumn. \n",
      "\n",
      "    "
     ]
    },
    {
     "cell_type": "code",
     "metadata": {},
     "outputs": [],
     "input": [
      "from datetime import date, timedelta\n",
      "def week_start_date(year, week, dow=0):    \n",
      "    \"\"\"\n",
      "    :param int year: Numer roku\n",
      "    :param int week: Numer tygodnia w roku \n",
      "    :param int dow: Funkcja ta zwraca datę, zwróci datę dnia o indeksie dow, zero oznacza poniedziałek, jeden wtorek itp. \n",
      "    \"\"\"\n",
      "    # http://stackoverflow.com/a/1287862/7918\n",
      "    d = date(year, 1, 1)    \n",
      "    delta_days = d.isoweekday() - 1\n",
      "    delta_weeks = week\n",
      "    if year == d.isocalendar()[0]:\n",
      "        delta_weeks -= 1\n",
      "    delta = timedelta(days=-delta_days+dow, weeks=delta_weeks)\n",
      "    return d + delta"
     ],
     "language": "python",
     "prompt_number": 51
    },
    {
     "cell_type": "code",
     "metadata": {},
     "outputs": [],
     "input": [
      ""
     ],
     "language": "python",
     "prompt_number": 52
    },
    {
     "cell_type": "markdown",
     "metadata": {},
     "source": [
      "Ustaw kolumnę \"Date\" tak by była indeksem Twojej ramki. "
     ]
    },
    {
     "cell_type": "code",
     "metadata": {},
     "outputs": [],
     "input": [
      ""
     ],
     "language": "python",
     "prompt_number": 54
    },
    {
     "cell_type": "markdown",
     "metadata": {},
     "source": [
      "Wyświetl poziomy pyłu (kolumna dust) oraz Berylu (7Be)"
     ]
    },
    {
     "cell_type": "code",
     "metadata": {},
     "outputs": [],
     "input": [
      ""
     ],
     "language": "python"
    },
    {
     "cell_type": "code",
     "metadata": {},
     "outputs": [],
     "input": [
      ""
     ],
     "language": "python"
    },
    {
     "cell_type": "heading",
     "metadata": {},
     "level": 3,
     "source": [
      "Średnie miesięczne "
     ]
    },
    {
     "cell_type": "markdown",
     "metadata": {},
     "source": [
      "Wyznacz średnie miesięczne poziomów zanieczyszczeń. W tym celu musisz: \n",
      "\n",
      "*Rozwiązanie nieładne*\n",
      "\n",
      "1. Dodać do ramki kolumnę month, która wskasuje miesiąc danego pomiaru. \n",
      "2. Odpalić group_by na miesiącu \n",
      "3. Policzyć średnią\n",
      "\n",
      "*Rozwiązanie ładne* \n",
      "\n",
      "1. Ustawić kolumnę Date jako indeks ramki (musi być typu pd.DatetimeIndex), \n",
      "   patrz: http://stackoverflow.com/q/17328655/7918\n",
      "2. użyć df.resample"
     ]
    },
    {
     "cell_type": "code",
     "metadata": {},
     "outputs": [],
     "input": [
      ""
     ],
     "language": "python",
     "prompt_number": 57
    },
    {
     "cell_type": "heading",
     "metadata": {},
     "level": 3,
     "source": [
      "Zapis wyników "
     ]
    },
    {
     "cell_type": "markdown",
     "metadata": {},
     "source": [
      "Zapisz wyniki tygodniowe do jakiegoś formatu:"
     ]
    },
    {
     "cell_type": "code",
     "metadata": {},
     "outputs": [],
     "input": [
      ""
     ],
     "language": "python"
    },
    {
     "cell_type": "code",
     "metadata": {},
     "outputs": [],
     "input": [
      ""
     ],
     "language": "python"
    }
   ]
  }
 ],
 "cells": [],
 "metadata": {
  "name": "",
  "signature": "sha256:e684497e5f66ce42129723aaa5f4047dff11c23da0bfd20aefbe6c78511048ad"
 },
 "nbformat": 3,
 "nbformat_minor": 0
}