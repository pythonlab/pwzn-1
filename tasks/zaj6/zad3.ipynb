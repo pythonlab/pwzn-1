{
 "metadata": {
  "name": "",
  "signature": "sha256:9f80c7363b73f21f16f8bc676c50d2d712c3694b0948f9819f0e3b388bfc2994"
 },
 "nbformat": 3,
 "nbformat_minor": 0,
 "worksheets": [
  {
   "cells": [
    {
     "cell_type": "heading",
     "level": 1,
     "metadata": {},
     "source": [
      "Zadanie 3"
     ]
    },
    {
     "cell_type": "markdown",
     "metadata": {},
     "source": [
      "Za\u0142aduj dane z pliku \"dane-errors.csv\" plik ten zawiera kolejne pomiary Berylu 7 w atmosferze. Tym razem zawiera on dodatakowo niepewno\u015b\u0107 pomiarow\u0105 owych pomiar\u00f3w. \n",
      "\n",
      "Zadanie polega na policzeniu \u015brednich miesi\u0119cznych w spos\u00f3b \"poprawny\", tj. \u015bredni\u0105\u00a0trzeba wa\u017cy\u0107 za pomoc\u0105 niepewno\u015bci pomiarowych. Prosz\u0119 zastosowa\u0107 funkcj\u0119 gropupby"
     ]
    },
    {
     "cell_type": "code",
     "collapsed": false,
     "input": [],
     "language": "python",
     "metadata": {},
     "outputs": []
    }
   ],
   "metadata": {}
  }
 ]
}