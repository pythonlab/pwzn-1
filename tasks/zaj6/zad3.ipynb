{
 "worksheets": [
  {
   "cells": [
    {
     "cell_type": "heading",
     "metadata": {},
     "level": 1,
     "source": [
      "Zadanie 3"
     ]
    },
    {
     "cell_type": "markdown",
     "metadata": {},
     "source": [
      "Załaduj dane z pliku \"dane-errors.csv\" plik ten zawiera kolejne pomiary Berylu 7 w atmosferze. Tym razem zawiera on dodatakowo niepewność pomiarową owych pomiarów. \n",
      "\n",
      "Zadanie polega na policzeniu średnich miesięcznych w sposób \"poprawny\", tj. średnią trzeba ważyć za pomocą niepewności pomiarowych. Proszę zastosować funkcję gropupby. \n"
     ]
    },
    {
     "cell_type": "code",
     "metadata": {},
     "outputs": [],
     "input": [
      ""
     ],
     "language": "python"
    }
   ]
  }
 ],
 "cells": [],
 "metadata": {
  "name": "",
  "signature": "sha256:9f80c7363b73f21f16f8bc676c50d2d712c3694b0948f9819f0e3b388bfc2994"
 },
 "nbformat": 3,
 "nbformat_minor": 0
}